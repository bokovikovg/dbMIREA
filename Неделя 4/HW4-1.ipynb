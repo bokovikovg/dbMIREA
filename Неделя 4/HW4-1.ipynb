{
 "cells": [
  {
   "cell_type": "markdown",
   "metadata": {
    "deletable": true,
    "editable": true
   },
   "source": [
    "Данное домашнее задание посвящено схеме базе данных, связанной с футбольным командами. Схема расположена в hw_diagram.jpg\n",
    "## Описание таблиц \n",
    "\n",
    "### Positions \n",
    "Позиции игроков\n",
    "id - уникальный идентификатор позиции \n",
    "Name - Название таблицы \n",
    "\n",
    "### Coaches \n",
    "Таблица тренеров \n",
    "id - уникальный идентификатор тренера\n",
    "Name - имя тренера \n",
    "\n",
    "## Teams \n",
    "Таблица команд \n",
    "id - уникальный идентификатор  команды \n",
    "Name - имя команды \n",
    "Location - расположение команды \n",
    "Coach_id - идентификатор тренера \n",
    "\n",
    "### Players \n",
    "Таблица игроков \n",
    "Id - уникальный идентификатор игрока \n",
    "Name - имя игрока \n",
    "Age - возраст игрока \n",
    "Position_id - идентификатор позиции \n",
    "Team_id - идентификатор команды \n",
    "Start_date - дата начала игры в команде \n",
    "\n",
    "### PlayersArchive \n",
    "Архив по игрокам (информация о том, в какой команде игрок играл ранее) \n",
    "player_id - идентификатор игрока \n",
    "team_id - идентификатор команды \n",
    "start_date - дата начала игры \n",
    "end_date - дата окончания игры"
   ]
  },
  {
   "cell_type": "markdown",
   "metadata": {
    "deletable": true,
    "editable": true
   },
   "source": [
    "# Задание 1\n",
    "Реализовать перенакатываемые sql-скрипты по схеме hw_diagram, приложенного ниже."
   ]
  },
  {
   "cell_type": "code",
   "execution_count": 4,
   "metadata": {
    "collapsed": false
   },
   "outputs": [
    {
     "data": {
      "text/plain": [
       "'Connected: None@hw4.db'"
      ]
     },
     "execution_count": 4,
     "metadata": {},
     "output_type": "execute_result"
    }
   ],
   "source": [
    "%reload_ext sql\n",
    "%sql sqlite:///hw4.db "
   ]
  },
  {
   "cell_type": "code",
   "execution_count": 5,
   "metadata": {
    "collapsed": false,
    "deletable": true,
    "editable": true
   },
   "outputs": [
    {
     "name": "stdout",
     "output_type": "stream",
     "text": [
      "Done.\n",
      "Done.\n",
      "0 rows affected.\n",
      "Done.\n",
      "0 rows affected.\n",
      "Done.\n",
      "0 rows affected.\n",
      "Done.\n",
      "0 rows affected.\n",
      "Done.\n",
      "0 rows affected.\n"
     ]
    },
    {
     "data": {
      "text/plain": [
       "[]"
      ]
     },
     "execution_count": 5,
     "metadata": {},
     "output_type": "execute_result"
    }
   ],
   "source": [
    "%%sql   \n",
    "pragma foreign_key=on;\n",
    "DROP TABLE if exists Coaches;\n",
    "CREATE TABLE Coaches (\n",
    "    id integer(0,0) \n",
    "    Primary key,name Varchar(0,0));\n",
    "DROP TABLE if exists Teams;\n",
    "CREATE TABLE Teams (\n",
    "    id integer primary key ,name varchar(0,0), \n",
    "    location varchar(0,0) , coach_id integer(0,0) ,foreign key(coach_id) references Coaches(id));\n",
    "Drop table if exists Positions;\n",
    "Create table Positions (\n",
    "    id integer primary key,name varchar(0,0));\n",
    "DROP TABLE if exists Players;\n",
    "CREATE TABLE Players (\n",
    "    id integer primary key , name varchar(0,0), \n",
    "    age integer , team_id integer  , position_id integer ,\n",
    "    start_date data, foreign key(position_id) references Positions(id), \n",
    "    foreign key(team_id) references Teams(id));\n",
    "Drop table if exists Players_Archive;\n",
    "Create table Players_Archive (\n",
    "    player_id integer , team_id integer ,start_date data, \n",
    "    end_date data , foreign key (player_id) references Players(id),\n",
    "    foreign key (team_id) references Teams(id)) ;"
   ]
  },
  {
   "cell_type": "markdown",
   "metadata": {
    "deletable": true,
    "editable": true
   },
   "source": [
    "# Задание 2\n",
    "Написать sql-скрипт, осуществляюший добавление всех возможных позиций игроков. (В данной задаче можно ограничится четырьмя - вратарь, защитник, полузащитник, нападающий)"
   ]
  },
  {
   "cell_type": "code",
   "execution_count": 6,
   "metadata": {
    "collapsed": false
   },
   "outputs": [
    {
     "name": "stdout",
     "output_type": "stream",
     "text": [
      "1 rows affected.\n",
      "1 rows affected.\n",
      "1 rows affected.\n",
      "1 rows affected.\n"
     ]
    },
    {
     "data": {
      "text/plain": [
       "[]"
      ]
     },
     "execution_count": 6,
     "metadata": {},
     "output_type": "execute_result"
    }
   ],
   "source": [
    "%%sql\n",
    "insert into Positions values (1, 'Goalkeeper');\n",
    "insert into Positions values (2, 'defender');\n",
    "insert into Positions values (3, 'midfielder');\n",
    "insert into Positions values (4, 'forward');"
   ]
  },
  {
   "cell_type": "code",
   "execution_count": 22,
   "metadata": {
    "collapsed": false,
    "deletable": true,
    "editable": true
   },
   "outputs": [
    {
     "name": "stdout",
     "output_type": "stream",
     "text": [
      "1 rows affected.\n"
     ]
    },
    {
     "data": {
      "text/plain": [
       "[]"
      ]
     },
     "execution_count": 22,
     "metadata": {},
     "output_type": "execute_result"
    }
   ],
   "source": [
    "%sql Insert into Players(id,name,age,team_id,position_id,start_date)Values ('1','Genry','18','1','3','19-11-2012')"
   ]
  },
  {
   "cell_type": "markdown",
   "metadata": {
    "deletable": true,
    "editable": true
   },
   "source": [
    "# Задание 3\n",
    "Написать функцию, осуществляющую добавление тренера. На вход функции подается имя тренера. При невозможности вставки функция должна обработать данное исключение и вывести пользователю информацию о проблеме\n",
    "\n",
    "После написания функции необходимо добавить несколько тренеров для таблицы."
   ]
  },
  {
   "cell_type": "code",
   "execution_count": 7,
   "metadata": {
    "collapsed": true,
    "deletable": true,
    "editable": true
   },
   "outputs": [],
   "source": [
    "import sqlite3\n",
    "db=sqlite3.connect('hw4.db')\n",
    "def check_coach(name):\n",
    "    cur = db.cursor()\n",
    "    cur.execute('''select id from coaches where name = ?''',(name,))\n",
    "    try:\n",
    "        coach_id = cur.fetchone()[0]\n",
    "        return coach_id;\n",
    "    except TypeError:\n",
    "        print('no such coach')\n",
    "        return -1;\n",
    "def ins(name):\n",
    "    coach_id = check_coach(name)\n",
    "    if coach_id != -1:\n",
    "        return -1\n",
    "    cur = db.cursor()\n",
    "    cur.execute( '''select coalesce(max(id)+1, 1) from Coaches''')\n",
    "    ID = cur.fetchone()[0]\n",
    "    cur.execute('''insert into Coaches(id, Name) values(?,?)''', (ID, name))\n",
    "    db.commit()"
   ]
  },
  {
   "cell_type": "markdown",
   "metadata": {
    "deletable": true,
    "editable": true
   },
   "source": [
    "# Задание 4\n",
    "\n",
    "Написать функцию, осуществляющую добавление команды. На вход функция принимает (имя команды, местоположение, имя тренера).\n",
    "На выходе должна быть добавлена команда.\n",
    "\n",
    "После написания функции необходимо добавить несколько команд"
   ]
  },
  {
   "cell_type": "code",
   "execution_count": 9,
   "metadata": {
    "collapsed": false,
    "deletable": true,
    "editable": true
   },
   "outputs": [
    {
     "name": "stdout",
     "output_type": "stream",
     "text": [
      "no such coach\n",
      "no such coach\n",
      "no such coach\n"
     ]
    }
   ],
   "source": [
    "def insert_team(name, location, coachname):\n",
    "    coach_id = check_coach(coachname)\n",
    "    cur = db.cursor()\n",
    "    cur.execute('''select coalesce(max(id) + 1, 1) from Teams''')\n",
    "    ID = cur.fetchone()[0];\n",
    "    cur.execute('''insert into Teams values(?,?,?,?)''', (ID, name, location, coach_id))\n",
    "    db.commit()\n",
    "insert_team('spartak', 'russia', 'dimon')\n",
    "insert_team('lol', 'ow', 'jon')\n",
    "insert_team('pot', 'ez', 'jonny')"
   ]
  },
  {
   "cell_type": "code",
   "execution_count": 10,
   "metadata": {
    "collapsed": false
   },
   "outputs": [
    {
     "name": "stdout",
     "output_type": "stream",
     "text": [
      "Done.\n"
     ]
    },
    {
     "data": {
      "text/html": [
       "<table>\n",
       "    <tr>\n",
       "        <th>id</th>\n",
       "        <th>name</th>\n",
       "        <th>location</th>\n",
       "        <th>coach_id</th>\n",
       "    </tr>\n",
       "    <tr>\n",
       "        <td>1</td>\n",
       "        <td>spartak</td>\n",
       "        <td>russia</td>\n",
       "        <td>-1</td>\n",
       "    </tr>\n",
       "    <tr>\n",
       "        <td>2</td>\n",
       "        <td>spartak</td>\n",
       "        <td>russia</td>\n",
       "        <td>-1</td>\n",
       "    </tr>\n",
       "    <tr>\n",
       "        <td>3</td>\n",
       "        <td>lol</td>\n",
       "        <td>ow</td>\n",
       "        <td>-1</td>\n",
       "    </tr>\n",
       "    <tr>\n",
       "        <td>4</td>\n",
       "        <td>pot</td>\n",
       "        <td>ez</td>\n",
       "        <td>-1</td>\n",
       "    </tr>\n",
       "</table>"
      ],
      "text/plain": [
       "[(1, 'spartak', 'russia', -1),\n",
       " (2, 'spartak', 'russia', -1),\n",
       " (3, 'lol', 'ow', -1),\n",
       " (4, 'pot', 'ez', -1)]"
      ]
     },
     "execution_count": 10,
     "metadata": {},
     "output_type": "execute_result"
    }
   ],
   "source": [
    "%sql select * from Teams"
   ]
  },
  {
   "cell_type": "markdown",
   "metadata": {
    "deletable": true,
    "editable": true
   },
   "source": [
    "# Задание 5\n",
    "\n",
    "Написать функцию, осуществляющую обновление информации о команде. У функции на входе должен быть один обязательный параметр - название команды и два необязательных параметра - имя тренера и местоположение. При этом хотя бы один из необязательных параметров должен быть заполнен. Функция должна обновлять значение переданных необязательных параметров.\n",
    "\n",
    "После написания функции вызовите данную функцию несколько раз"
   ]
  },
  {
   "cell_type": "code",
   "execution_count": 12,
   "metadata": {
    "collapsed": false,
    "deletable": true,
    "editable": true
   },
   "outputs": [
    {
     "name": "stdout",
     "output_type": "stream",
     "text": [
      "no such coach\n",
      "no such coach\n"
     ]
    },
    {
     "data": {
      "text/plain": [
       "-1"
      ]
     },
     "execution_count": 12,
     "metadata": {},
     "output_type": "execute_result"
    }
   ],
   "source": [
    "def check_coach(coachname):\n",
    "    cur = db.cursor()\n",
    "    cur.execute('''select id from coaches where name = ?''',(coachname,))\n",
    "    try:\n",
    "        coach_id = cur.fetchone()[0]\n",
    "        return coach_id\n",
    "    except TypeError:\n",
    "        print('no such coach')\n",
    "        return -1;\n",
    "def upd(teamname, coachname):\n",
    "    coach_id = check_coach(coachname)\n",
    "    if coach_id == -1:\n",
    "        return -1;\n",
    "    cur = db.cursor()\n",
    "    cur.execute('''update teams set name = ? where coach_id = ?''',(teamname, coach_id))\n",
    "    db.commit()\n",
    "upd('ttt','dimon')\n",
    "upd('lll','jonny')"
   ]
  },
  {
   "cell_type": "code",
   "execution_count": 18,
   "metadata": {
    "collapsed": false
   },
   "outputs": [
    {
     "name": "stdout",
     "output_type": "stream",
     "text": [
      "Done.\n"
     ]
    },
    {
     "data": {
      "text/html": [
       "<table>\n",
       "    <tr>\n",
       "        <th>id</th>\n",
       "        <th>name</th>\n",
       "        <th>location</th>\n",
       "        <th>coach_id</th>\n",
       "    </tr>\n",
       "    <tr>\n",
       "        <td>1</td>\n",
       "        <td>spartak</td>\n",
       "        <td>russia</td>\n",
       "        <td>-1</td>\n",
       "    </tr>\n",
       "    <tr>\n",
       "        <td>2</td>\n",
       "        <td>spartak</td>\n",
       "        <td>russia</td>\n",
       "        <td>-1</td>\n",
       "    </tr>\n",
       "    <tr>\n",
       "        <td>3</td>\n",
       "        <td>lol</td>\n",
       "        <td>ow</td>\n",
       "        <td>-1</td>\n",
       "    </tr>\n",
       "    <tr>\n",
       "        <td>4</td>\n",
       "        <td>pot</td>\n",
       "        <td>ez</td>\n",
       "        <td>-1</td>\n",
       "    </tr>\n",
       "</table>"
      ],
      "text/plain": [
       "[(1, 'spartak', 'russia', -1),\n",
       " (2, 'spartak', 'russia', -1),\n",
       " (3, 'lol', 'ow', -1),\n",
       " (4, 'pot', 'ez', -1)]"
      ]
     },
     "execution_count": 18,
     "metadata": {},
     "output_type": "execute_result"
    }
   ],
   "source": [
    "%sql select * from Teams"
   ]
  },
  {
   "cell_type": "code",
   "execution_count": 19,
   "metadata": {
    "collapsed": false
   },
   "outputs": [
    {
     "name": "stdout",
     "output_type": "stream",
     "text": [
      "Done.\n"
     ]
    },
    {
     "data": {
      "text/html": [
       "<table>\n",
       "    <tr>\n",
       "        <th>id</th>\n",
       "        <th>name</th>\n",
       "        <th>age</th>\n",
       "        <th>team_id</th>\n",
       "        <th>position_id</th>\n",
       "        <th>start_date</th>\n",
       "    </tr>\n",
       "</table>"
      ],
      "text/plain": [
       "[]"
      ]
     },
     "execution_count": 19,
     "metadata": {},
     "output_type": "execute_result"
    }
   ],
   "source": [
    "%sql select * from Players"
   ]
  },
  {
   "cell_type": "markdown",
   "metadata": {
    "deletable": true,
    "editable": true
   },
   "source": [
    "# Задание 6\n",
    "\n",
    "Написать функцию, осуществляющую добавление нового футболиста в таблицу игроков. На входе (имя, возраст, название позиции, название команды, дата перехода в команду(необязательный параметр)). Если дата перехода не указана, то нужно использовать текущую дату. Предусмотреть различные ошибки (такие как неверное имя позиции, неверное название команды, возраст < 10 и > 50 и т.п.)\n",
    "\n",
    "После написания функции необходимо добавить несколько игроков."
   ]
  },
  {
   "cell_type": "code",
   "execution_count": 23,
   "metadata": {
    "collapsed": false,
    "deletable": true,
    "editable": true
   },
   "outputs": [
    {
     "name": "stdout",
     "output_type": "stream",
     "text": [
      "found pos\n",
      "no such player\n",
      "found age\n",
      "Done.\n"
     ]
    },
    {
     "data": {
      "text/html": [
       "<table>\n",
       "    <tr>\n",
       "        <th>id</th>\n",
       "        <th>name</th>\n",
       "        <th>age</th>\n",
       "        <th>team_id</th>\n",
       "        <th>position_id</th>\n",
       "        <th>start_date</th>\n",
       "    </tr>\n",
       "    <tr>\n",
       "        <td>1</td>\n",
       "        <td>Genry</td>\n",
       "        <td>18</td>\n",
       "        <td>1</td>\n",
       "        <td>3</td>\n",
       "        <td>19-11-2012</td>\n",
       "    </tr>\n",
       "    <tr>\n",
       "        <td>2</td>\n",
       "        <td>jon</td>\n",
       "        <td>19</td>\n",
       "        <td>1</td>\n",
       "        <td>1</td>\n",
       "        <td>19-07-1997</td>\n",
       "    </tr>\n",
       "</table>"
      ],
      "text/plain": [
       "[(1, 'Genry', 18, 1, 3, '19-11-2012'), (2, 'jon', 19, 1, 1, '19-07-1997')]"
      ]
     },
     "execution_count": 23,
     "metadata": {},
     "output_type": "execute_result"
    }
   ],
   "source": [
    "def check_position(position):\n",
    "    cur = db.cursor()\n",
    "    cur.execute('''select id from Positions where Name = ?''', (position,))\n",
    "    try:\n",
    "        pos_id = cur.fetchone()[0]\n",
    "        print('found pos')\n",
    "        return pos_id;\n",
    "    except TypeError:\n",
    "        print('no such position')\n",
    "        return -1;\n",
    "def check_team(name):\n",
    "    cur = db.cursor()\n",
    "    cur.execute('''select id from Teams where Name = ?''',(name,))\n",
    "    try:\n",
    "        t_id = cur.fetchone()[0]\n",
    "        return t_id;\n",
    "    except TypeError:\n",
    "        print('no teamname')\n",
    "        return -1;\n",
    "def check_age():\n",
    "    cur = db.cursor()\n",
    "    cur.execute('''select id from Players where age between 10 and 50''')\n",
    "    try:\n",
    "        a_id = cur.fetchone()[0]\n",
    "        print('found age')\n",
    "        return a_id\n",
    "    except TypeError:\n",
    "        print('no such age')\n",
    "        return -1; \n",
    "def check_player(plname):\n",
    "    cur = db.cursor()\n",
    "    cur.execute('''select id from Players where Name = ?''',(plname,))\n",
    "    try:\n",
    "        player_id = cur.fetchone()[0]\n",
    "        print('found player')\n",
    "        return player_id;\n",
    "    except TypeError:\n",
    "        print('no such player')\n",
    "        return -1;\n",
    "def insert_player(name,age,position,teamname,startdate):\n",
    "    pos_id = check_position(position)\n",
    "    team_id = check_team(teamname)\n",
    "    player_id = check_player(name)\n",
    "    age_id = check_age()\n",
    "    if (pos_id == -1) or (team_id == -1) or (age_id == -1) or (player_id != -1):\n",
    "        print('can not insert a player')\n",
    "        return -1;\n",
    "    cur = db.cursor()\n",
    "    cur.execute( '''\n",
    "    select coalesce(max(id)+1, 1) from Players''')\n",
    "    ID = cur.fetchone()[0]\n",
    "    cur.execute('''insert into Players(id,name,age,team_id,position_id,start_date) VALUES(?,?,?,?,?,?)''', \n",
    "                (ID, name, age, pos_id, team_id, startdate))\n",
    "    db.commit()\n",
    "insert_player('jon','19','Goalkeeper','spartak','19-07-1997')\n",
    "%sql select * from Players"
   ]
  },
  {
   "cell_type": "markdown",
   "metadata": {
    "deletable": true,
    "editable": true
   },
   "source": [
    "# Задание 7\n",
    "Написать функцию для перевода игрока в другую команду. Данная функция должна осуществить архивирование текущей записи в таблице игроков в таблицу players_archive с заполнение end_date - датой начала игры за новую команду - 1 день. А также осуществлять изменение поля в таблице Players. При возникновении ошибки должен осуществляться полный откат транзакции."
   ]
  },
  {
   "cell_type": "code",
   "execution_count": null,
   "metadata": {
    "collapsed": true,
    "deletable": true,
    "editable": true
   },
   "outputs": [],
   "source": []
  }
 ],
 "metadata": {
  "kernelspec": {
   "display_name": "Python 3",
   "language": "python",
   "name": "python3"
  },
  "language_info": {
   "codemirror_mode": {
    "name": "ipython",
    "version": 3
   },
   "file_extension": ".py",
   "mimetype": "text/x-python",
   "name": "python",
   "nbconvert_exporter": "python",
   "pygments_lexer": "ipython3",
   "version": "3.6.0"
  }
 },
 "nbformat": 4,
 "nbformat_minor": 2
}
