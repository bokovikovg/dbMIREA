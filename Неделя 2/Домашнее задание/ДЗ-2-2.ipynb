{
 "cells": [
  {
   "cell_type": "markdown",
   "metadata": {
    "collapsed": true,
    "deletable": true,
    "editable": true
   },
   "source": [
    "### Домашнее задание 2 \n",
    "\n",
    "Необходимо реализовать схему, указанную в hw_diagram.pdf \n"
   ]
  },
  {
   "cell_type": "markdown",
   "metadata": {
    "deletable": true,
    "editable": true
   },
   "source": [
    "## Описание таблиц \n",
    "PeopleStatus - Описание возможных статусов людей, которые есть в университете (Студент, Преподаватель).\n",
    "Faculties - Описание факультетов, которые есть в университете (KIB, IT, и т.д.).\n",
    "People - Информация о людях в университете (Имя, почта, ссылка на факультет, ссылка на статус).\n",
    "Classes - Описание возможных классов в университете (название (Математический анализ) и ссылка на факультет).\n",
    "Semesters - Справочник семестров факультета(например, Осень2016, '2016-01-01', '2016-12-31').\n",
    "ClassesSchedule - Расписание классов (ссылки на семестр, преподавателя и курс, день недели, время начала).\n",
    "StudentsSchedule - Таблица, описывающая, какой студент ходит на какой курс."
   ]
  },
  {
   "cell_type": "code",
   "execution_count": 34,
   "metadata": {
    "collapsed": true,
    "deletable": true,
    "editable": true
   },
   "outputs": [],
   "source": [
    "# Не забудьте настроить соединение!\n",
    "import sqlite3\n",
    "db=sqlite3.connect('hwdb')\n",
    "db.close()"
   ]
  },
  {
   "cell_type": "markdown",
   "metadata": {
    "deletable": true,
    "editable": true
   },
   "source": [
    "## Создание таблиц\n",
    "Напишет ниже скрипты по созданию таблиц с учетом всех внешних ключей."
   ]
  },
  {
   "cell_type": "code",
   "execution_count": 35,
   "metadata": {
    "collapsed": false,
    "deletable": true,
    "editable": true
   },
   "outputs": [
    {
     "ename": "OperationalError",
     "evalue": "database is locked",
     "output_type": "error",
     "traceback": [
      "\u001b[0;31m---------------------------------------------------------------------------\u001b[0m",
      "\u001b[0;31mOperationalError\u001b[0m                          Traceback (most recent call last)",
      "\u001b[0;32m<ipython-input-35-681927303b24>\u001b[0m in \u001b[0;36m<module>\u001b[0;34m()\u001b[0m\n\u001b[1;32m      3\u001b[0m cursor.execute('''\n\u001b[1;32m      4\u001b[0m     \u001b[0mDROP\u001b[0m \u001b[0mTABLE\u001b[0m \u001b[0mIF\u001b[0m \u001b[0mEXISTS\u001b[0m \u001b[0mSemesters\u001b[0m\u001b[0;34m\u001b[0m\u001b[0m\n\u001b[0;32m----> 5\u001b[0;31m ''')\n\u001b[0m\u001b[1;32m      6\u001b[0m cursor.execute('''\n\u001b[1;32m      7\u001b[0m     \u001b[0mDROP\u001b[0m \u001b[0mTABLE\u001b[0m \u001b[0mIF\u001b[0m \u001b[0mEXISTS\u001b[0m \u001b[0mClassesSchedule\u001b[0m\u001b[0;34m\u001b[0m\u001b[0m\n",
      "\u001b[0;31mOperationalError\u001b[0m: database is locked"
     ]
    }
   ],
   "source": [
    "db = sqlite3.connect('hwdb')\n",
    "cursor = db.cursor()\n",
    "cursor.execute('''\n",
    "    DROP TABLE IF EXISTS Semesters\n",
    "''')\n",
    "cursor.execute('''\n",
    "    DROP TABLE IF EXISTS ClassesSchedule\n",
    "''')\n",
    "cursor.execute('''\n",
    "    DROP TABLE IF EXISTS Classes\n",
    "''')\n",
    "cursor.execute('''\n",
    "    DROP TABLE IF EXISTS Faculties\n",
    "''')\n",
    "cursor.execute('''\n",
    "    DROP TABLE IF EXISTS People\n",
    "''')\n",
    "cursor.execute('''\n",
    "    DROP TABLE IF EXISTS PeopleStatus\n",
    "''')\n",
    "cursor.execute('''\n",
    "    DROP TABLE IF EXISTS StudentsSchedule\n",
    "''')\n",
    "cursor.execute('''\n",
    "    CREATE TABLE Semesters(id INTEGER PRIMARY KEY, shortname VARCHAR, date_start DATE, date_end DATE)\n",
    "''');\n",
    "cursor.execute('''\n",
    "    CREATE TABLE ClassesSchedule(id INTEGER PRIMARY KEY, class_id INTEGER, teacher_id INTEGER, \n",
    "        semester_id INTEGER, week_day INTEGER, time_start VARCHAR);\n",
    "''')\n",
    "cursor.execute('''\n",
    "    CREATE TABLE Classes(id INTEGER PRIMARY KEY, description VARCHAR, fac_id INTEGER);\n",
    "''')\n",
    "cursor.execute('''\n",
    "    CREATE TABLE Faculties(id INTEGER PRIMARY KEY, name VARCHAR);\n",
    "''')\n",
    "cursor.execute('''\n",
    "    CREATE TABLE People(id INTEGER PRIMARY KEY, name VARCHAR, email VARCHAR, fac_id INTEGER, status_id INTEGER);\n",
    "''')\n",
    "cursor.execute('''\n",
    "    CREATE TABLE PeopleStatus(id INTEGER PRIMARY KEY, name VARCHAR);\n",
    "''')\n",
    "cursor.execute('''\n",
    "    CREATE TABLE StudentsSchedule(student_id INTEGER,\n",
    "                              classesschedule_id INTEGER, FOREIGN KEY(classesschedule_id) REFERENCES ClassesSchedule(id),\n",
    "                              PRIMARY KEY(student_id));\n",
    "''')\n",
    "db.commit()"
   ]
  },
  {
   "cell_type": "markdown",
   "metadata": {
    "deletable": true,
    "editable": true
   },
   "source": [
    "## Добавление записей в таблицы\n",
    "Приведите примеры добавления записей в каждую из таблиц\n"
   ]
  },
  {
   "cell_type": "code",
   "execution_count": null,
   "metadata": {
    "collapsed": false,
    "deletable": true,
    "editable": true
   },
   "outputs": [],
   "source": [
    "cursor.execute('''INSERT INTO Semesters VALUES('4', 'Summer 2017', '5-02-2017', '30-06-2017')''')\n",
    "cursor.execute('''INSERT INTO ClassesSchedule VALUES('3', '1','1','1', 'Monday', '9.00')''')\n",
    "cursor.execute('''INSERT INTO Classes VALUES('9', 'Computer Science', '1')''')\n",
    "cursor.execute('''INSERT INTO Faculties VALUES('1', 'Cyber')''')\n",
    "cursor.execute('''INSERT INTO People VALUES('1','Ivan', 'ivan@mail.ru','1','1')''')\n",
    "cursor.execute('''INSERT INTO PeopleStatus VALUES('1', 'Student')''')\n",
    "cursor.execute('''INSERT INTO StudentsSchedule VALUES('1','1')''')\n",
    "db.commit()\n",
    "db.close()"
   ]
  },
  {
   "cell_type": "markdown",
   "metadata": {
    "deletable": true,
    "editable": true
   },
   "source": [
    "\n",
    "Находится ли указанная схема ниже в BCNF? Напишите ниже функциональные зависимости, которые вы считаете, есть в указанной схеме. "
   ]
  },
  {
   "cell_type": "markdown",
   "metadata": {
    "deletable": true,
    "editable": true
   },
   "source": []
  }
 ],
 "metadata": {
  "kernelspec": {
   "display_name": "Python 3",
   "language": "python",
   "name": "python3"
  },
  "language_info": {
   "codemirror_mode": {
    "name": "ipython",
    "version": 3
   },
   "file_extension": ".py",
   "mimetype": "text/x-python",
   "name": "python",
   "nbconvert_exporter": "python",
   "pygments_lexer": "ipython3",
   "version": "3.6.0"
  }
 },
 "nbformat": 4,
 "nbformat_minor": 2
}
