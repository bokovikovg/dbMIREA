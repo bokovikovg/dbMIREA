{
 "cells": [
  {
   "cell_type": "code",
   "execution_count": 3,
   "metadata": {
    "collapsed": false
   },
   "outputs": [
    {
     "name": "stdout",
     "output_type": "stream",
     "text": [
      "The sql extension is already loaded. To reload it, use:\n",
      "  %reload_ext sql\n"
     ]
    },
    {
     "data": {
      "text/plain": [
       "'Connected: None@chinook.db'"
      ]
     },
     "execution_count": 3,
     "metadata": {},
     "output_type": "execute_result"
    }
   ],
   "source": [
    "%load_ext sql\n",
    "%sql sqlite:///chinook.db"
   ]
  },
  {
   "cell_type": "markdown",
   "metadata": {},
   "source": [
    "# Задание 1\n",
    "\n",
    "Вывести 10 самых больших по размеру треков жанра ROCK и формата MPEG"
   ]
  },
  {
   "cell_type": "code",
   "execution_count": 4,
   "metadata": {
    "collapsed": false
   },
   "outputs": [
    {
     "name": "stdout",
     "output_type": "stream",
     "text": [
      "Done.\n"
     ]
    },
    {
     "data": {
      "text/html": [
       "<table>\n",
       "    <tr>\n",
       "        <th>Name</th>\n",
       "    </tr>\n",
       "    <tr>\n",
       "        <td>Through a Looking Glass</td>\n",
       "    </tr>\n",
       "    <tr>\n",
       "        <td>Occupation / Precipice</td>\n",
       "    </tr>\n",
       "    <tr>\n",
       "        <td>The Young Lords</td>\n",
       "    </tr>\n",
       "    <tr>\n",
       "        <td>The Man With Nine Lives</td>\n",
       "    </tr>\n",
       "    <tr>\n",
       "        <td>Dave</td>\n",
       "    </tr>\n",
       "    <tr>\n",
       "        <td>The Magnificent Warriors</td>\n",
       "    </tr>\n",
       "    <tr>\n",
       "        <td>The Lost Warrior</td>\n",
       "    </tr>\n",
       "    <tr>\n",
       "        <td>Maternity Leave</td>\n",
       "    </tr>\n",
       "    <tr>\n",
       "        <td>Battlestar Galactica, Pt. 3</td>\n",
       "    </tr>\n",
       "    <tr>\n",
       "        <td>The Woman King</td>\n",
       "    </tr>\n",
       "</table>"
      ],
      "text/plain": [
       "[('Through a Looking Glass',),\n",
       " ('Occupation / Precipice',),\n",
       " ('The Young Lords',),\n",
       " ('The Man With Nine Lives',),\n",
       " ('Dave',),\n",
       " ('The Magnificent Warriors',),\n",
       " ('The Lost Warrior',),\n",
       " ('Maternity Leave',),\n",
       " ('Battlestar Galactica, Pt. 3',),\n",
       " ('The Woman King',)]"
      ]
     },
     "execution_count": 4,
     "metadata": {},
     "output_type": "execute_result"
    }
   ],
   "source": [
    "%%sql\n",
    "SELECT t.name\n",
    "FROM tracks t \n",
    "    INNER JOIN genres g \n",
    "    ON t.genreid = g.genreid\n",
    "    INNER JOIN media_types m \n",
    "    ON m.mediatypeid = t.mediatypeid\n",
    "ORDER BY t.bytes desc \n",
    "limit 10\n"
   ]
  },
  {
   "cell_type": "markdown",
   "metadata": {},
   "source": [
    "## Задание 2\n",
    "Вывести названия всех групп, их песен и названия их альбомов для всех треков жанра Рок, приобретенные сотрудниками Microsoft."
   ]
  },
  {
   "cell_type": "code",
   "execution_count": 51,
   "metadata": {
    "collapsed": false
   },
   "outputs": [
    {
     "name": "stdout",
     "output_type": "stream",
     "text": [
      "Done.\n"
     ]
    },
    {
     "data": {
      "text/html": [
       "<table>\n",
       "    <tr>\n",
       "        <th>Name</th>\n",
       "        <th>Name_1</th>\n",
       "        <th>Title</th>\n",
       "    </tr>\n",
       "    <tr>\n",
       "        <td>Spyro Gyra</td>\n",
       "        <td>Believe</td>\n",
       "        <td>Heart of the Night</td>\n",
       "    </tr>\n",
       "    <tr>\n",
       "        <td>Spyro Gyra</td>\n",
       "        <td>As We Sleep</td>\n",
       "        <td>Heart of the Night</td>\n",
       "    </tr>\n",
       "    <tr>\n",
       "        <td>Guns N&#x27; Roses</td>\n",
       "        <td>Double Talkin&#x27; Jive</td>\n",
       "        <td>Use Your Illusion I</td>\n",
       "    </tr>\n",
       "    <tr>\n",
       "        <td>Guns N&#x27; Roses</td>\n",
       "        <td>The Garden</td>\n",
       "        <td>Use Your Illusion I</td>\n",
       "    </tr>\n",
       "    <tr>\n",
       "        <td>Guns N&#x27; Roses</td>\n",
       "        <td>Don&#x27;t Damn Me</td>\n",
       "        <td>Use Your Illusion I</td>\n",
       "    </tr>\n",
       "    <tr>\n",
       "        <td>Guns N&#x27; Roses</td>\n",
       "        <td>Dead Horse</td>\n",
       "        <td>Use Your Illusion I</td>\n",
       "    </tr>\n",
       "    <tr>\n",
       "        <td>Metallica</td>\n",
       "        <td>Attitude</td>\n",
       "        <td>ReLoad</td>\n",
       "    </tr>\n",
       "    <tr>\n",
       "        <td>Metallica</td>\n",
       "        <td>For Whom The Bell Tolls</td>\n",
       "        <td>Ride The Lightning</td>\n",
       "    </tr>\n",
       "    <tr>\n",
       "        <td>Metallica</td>\n",
       "        <td>Creeping Death</td>\n",
       "        <td>Ride The Lightning</td>\n",
       "    </tr>\n",
       "    <tr>\n",
       "        <td>Metallica</td>\n",
       "        <td>Some Kind Of Monster</td>\n",
       "        <td>St. Anger</td>\n",
       "    </tr>\n",
       "    <tr>\n",
       "        <td>Metallica</td>\n",
       "        <td>Shoot Me Again</td>\n",
       "        <td>St. Anger</td>\n",
       "    </tr>\n",
       "    <tr>\n",
       "        <td>Metallica</td>\n",
       "        <td>All Within My Hands</td>\n",
       "        <td>St. Anger</td>\n",
       "    </tr>\n",
       "    <tr>\n",
       "        <td>Caetano Veloso</td>\n",
       "        <td>Meditação</td>\n",
       "        <td>Prenda Minha</td>\n",
       "    </tr>\n",
       "    <tr>\n",
       "        <td>Toquinho &amp; Vinícius</td>\n",
       "        <td>Formosa</td>\n",
       "        <td>Vinícius De Moraes - Sem Limite</td>\n",
       "    </tr>\n",
       "    <tr>\n",
       "        <td>Toquinho &amp; Vinícius</td>\n",
       "        <td>Minha Namorada</td>\n",
       "        <td>Vinícius De Moraes - Sem Limite</td>\n",
       "    </tr>\n",
       "    <tr>\n",
       "        <td>Falamansa</td>\n",
       "        <td>Zeca Violeiro</td>\n",
       "        <td>Deixa Entrar</td>\n",
       "    </tr>\n",
       "    <tr>\n",
       "        <td>Foo Fighters</td>\n",
       "        <td>No Way Back</td>\n",
       "        <td>In Your Honor [Disc 1]</td>\n",
       "    </tr>\n",
       "    <tr>\n",
       "        <td>Foo Fighters</td>\n",
       "        <td>Still</td>\n",
       "        <td>In Your Honor [Disc 2]</td>\n",
       "    </tr>\n",
       "    <tr>\n",
       "        <td>Foo Fighters</td>\n",
       "        <td>Razor</td>\n",
       "        <td>In Your Honor [Disc 2]</td>\n",
       "    </tr>\n",
       "    <tr>\n",
       "        <td>Foo Fighters</td>\n",
       "        <td>Overdrive</td>\n",
       "        <td>One By One</td>\n",
       "    </tr>\n",
       "    <tr>\n",
       "        <td>Foo Fighters</td>\n",
       "        <td>My Hero</td>\n",
       "        <td>The Colour And The Shape</td>\n",
       "    </tr>\n",
       "    <tr>\n",
       "        <td>Frank Sinatra</td>\n",
       "        <td>New York, New York</td>\n",
       "        <td>My Way: The Best Of Frank Sinatra [Disc 1]</td>\n",
       "    </tr>\n",
       "    <tr>\n",
       "        <td>Frank Sinatra</td>\n",
       "        <td>My Kind Of Town</td>\n",
       "        <td>My Way: The Best Of Frank Sinatra [Disc 1]</td>\n",
       "    </tr>\n",
       "    <tr>\n",
       "        <td>Frank Sinatra</td>\n",
       "        <td>Bad, Bad Leroy Brown</td>\n",
       "        <td>My Way: The Best Of Frank Sinatra [Disc 1]</td>\n",
       "    </tr>\n",
       "    <tr>\n",
       "        <td>Funk Como Le Gusta</td>\n",
       "        <td>Zambação</td>\n",
       "        <td>Roda De Funk</td>\n",
       "    </tr>\n",
       "    <tr>\n",
       "        <td>Funk Como Le Gusta</td>\n",
       "        <td>Divirta-Se (Saindo Da Sua)</td>\n",
       "        <td>Roda De Funk</td>\n",
       "    </tr>\n",
       "    <tr>\n",
       "        <td>Gilberto Gil</td>\n",
       "        <td>Assum Preto</td>\n",
       "        <td>As Canções de Eu Tu Eles</td>\n",
       "    </tr>\n",
       "    <tr>\n",
       "        <td>Gilberto Gil</td>\n",
       "        <td>Is This Love (Live)</td>\n",
       "        <td>Quanta Gente Veio Ver (Live)</td>\n",
       "    </tr>\n",
       "    <tr>\n",
       "        <td>Gilberto Gil</td>\n",
       "        <td>Copacabana (Live)</td>\n",
       "        <td>Quanta Gente Veio Ver (Live)</td>\n",
       "    </tr>\n",
       "    <tr>\n",
       "        <td>Tim Maia</td>\n",
       "        <td>Formigueiro</td>\n",
       "        <td>Serie Sem Limite (Disc 2)</td>\n",
       "    </tr>\n",
       "    <tr>\n",
       "        <td>Titãs</td>\n",
       "        <td>O Pulso</td>\n",
       "        <td>Acústico</td>\n",
       "    </tr>\n",
       "    <tr>\n",
       "        <td>Titãs</td>\n",
       "        <td>A Melhor Forma</td>\n",
       "        <td>Acústico</td>\n",
       "    </tr>\n",
       "    <tr>\n",
       "        <td>Titãs</td>\n",
       "        <td>Homem Primata</td>\n",
       "        <td>Acústico</td>\n",
       "    </tr>\n",
       "    <tr>\n",
       "        <td>Titãs</td>\n",
       "        <td>Lugar Nenhum</td>\n",
       "        <td>Volume Dois</td>\n",
       "    </tr>\n",
       "    <tr>\n",
       "        <td>Titãs</td>\n",
       "        <td>Caras Como Eu</td>\n",
       "        <td>Volume Dois</td>\n",
       "    </tr>\n",
       "    <tr>\n",
       "        <td>Titãs</td>\n",
       "        <td>Toda Cor</td>\n",
       "        <td>Volume Dois</td>\n",
       "    </tr>\n",
       "    <tr>\n",
       "        <td>Battlestar Galactica</td>\n",
       "        <td>Exodus, Pt. 2</td>\n",
       "        <td>Battlestar Galactica, Season 3</td>\n",
       "    </tr>\n",
       "    <tr>\n",
       "        <td>Battlestar Galactica</td>\n",
       "        <td>The Passage</td>\n",
       "        <td>Battlestar Galactica, Season 3</td>\n",
       "    </tr>\n",
       "</table>"
      ],
      "text/plain": [
       "[('Spyro Gyra', 'Believe', 'Heart of the Night'),\n",
       " ('Spyro Gyra', 'As We Sleep', 'Heart of the Night'),\n",
       " (\"Guns N' Roses\", \"Double Talkin' Jive\", 'Use Your Illusion I'),\n",
       " (\"Guns N' Roses\", 'The Garden', 'Use Your Illusion I'),\n",
       " (\"Guns N' Roses\", \"Don't Damn Me\", 'Use Your Illusion I'),\n",
       " (\"Guns N' Roses\", 'Dead Horse', 'Use Your Illusion I'),\n",
       " ('Metallica', 'Attitude', 'ReLoad'),\n",
       " ('Metallica', 'For Whom The Bell Tolls', 'Ride The Lightning'),\n",
       " ('Metallica', 'Creeping Death', 'Ride The Lightning'),\n",
       " ('Metallica', 'Some Kind Of Monster', 'St. Anger'),\n",
       " ('Metallica', 'Shoot Me Again', 'St. Anger'),\n",
       " ('Metallica', 'All Within My Hands', 'St. Anger'),\n",
       " ('Caetano Veloso', 'Meditação', 'Prenda Minha'),\n",
       " ('Toquinho & Vinícius', 'Formosa', 'Vinícius De Moraes - Sem Limite'),\n",
       " ('Toquinho & Vinícius', 'Minha Namorada', 'Vinícius De Moraes - Sem Limite'),\n",
       " ('Falamansa', 'Zeca Violeiro', 'Deixa Entrar'),\n",
       " ('Foo Fighters', 'No Way Back', 'In Your Honor [Disc 1]'),\n",
       " ('Foo Fighters', 'Still', 'In Your Honor [Disc 2]'),\n",
       " ('Foo Fighters', 'Razor', 'In Your Honor [Disc 2]'),\n",
       " ('Foo Fighters', 'Overdrive', 'One By One'),\n",
       " ('Foo Fighters', 'My Hero', 'The Colour And The Shape'),\n",
       " ('Frank Sinatra', 'New York, New York', 'My Way: The Best Of Frank Sinatra [Disc 1]'),\n",
       " ('Frank Sinatra', 'My Kind Of Town', 'My Way: The Best Of Frank Sinatra [Disc 1]'),\n",
       " ('Frank Sinatra', 'Bad, Bad Leroy Brown', 'My Way: The Best Of Frank Sinatra [Disc 1]'),\n",
       " ('Funk Como Le Gusta', 'Zambação', 'Roda De Funk'),\n",
       " ('Funk Como Le Gusta', 'Divirta-Se (Saindo Da Sua)', 'Roda De Funk'),\n",
       " ('Gilberto Gil', 'Assum Preto', 'As Canções de Eu Tu Eles'),\n",
       " ('Gilberto Gil', 'Is This Love (Live)', 'Quanta Gente Veio Ver (Live)'),\n",
       " ('Gilberto Gil', 'Copacabana (Live)', 'Quanta Gente Veio Ver (Live)'),\n",
       " ('Tim Maia', 'Formigueiro', 'Serie Sem Limite (Disc 2)'),\n",
       " ('Titãs', 'O Pulso', 'Acústico'),\n",
       " ('Titãs', 'A Melhor Forma', 'Acústico'),\n",
       " ('Titãs', 'Homem Primata', 'Acústico'),\n",
       " ('Titãs', 'Lugar Nenhum', 'Volume Dois'),\n",
       " ('Titãs', 'Caras Como Eu', 'Volume Dois'),\n",
       " ('Titãs', 'Toda Cor', 'Volume Dois'),\n",
       " ('Battlestar Galactica', 'Exodus, Pt. 2', 'Battlestar Galactica, Season 3'),\n",
       " ('Battlestar Galactica', 'The Passage', 'Battlestar Galactica, Season 3')]"
      ]
     },
     "execution_count": 51,
     "metadata": {},
     "output_type": "execute_result"
    }
   ],
   "source": [
    "%%sql\n",
    "SELECT distinct ar.name, t.name, a.title\n",
    "FROM tracks t\n",
    "    INNER JOIN albums a\n",
    "    ON a.albumid = t.albumid\n",
    "    INNER JOIN artists ar\n",
    "    ON a.artistid = ar.artistid\n",
    "    INNER JOIN invoice_items i\n",
    "    ON i.trackid = t.trackid\n",
    "    INNER JOIN invoices ii \n",
    "    on ii.invoiceid = i.invoiceid\n",
    "    INNER JOIN customers c\n",
    "    ON ii.customerid = c.customerid\n",
    "    INNER JOIN genres g\n",
    "    ON t.genreid = t.genreid\n",
    "WHERE c.company like '%Microsoft%'\n",
    "AND g.name = 'Rock'\n",
    "\n"
   ]
  },
  {
   "cell_type": "markdown",
   "metadata": {},
   "source": [
    "## Задание 3\n",
    "Для каждого набора (жанр, тип медиа) вывести среднюю цену по стоимости трека и общее количество, причем вывести только те наборы, для которых все треку стоят больше 1,5$.\n"
   ]
  },
  {
   "cell_type": "code",
   "execution_count": 12,
   "metadata": {
    "collapsed": false
   },
   "outputs": [
    {
     "name": "stdout",
     "output_type": "stream",
     "text": [
      "Done.\n"
     ]
    },
    {
     "data": {
      "text/html": [
       "<table>\n",
       "    <tr>\n",
       "        <th>name</th>\n",
       "        <th>m_name</th>\n",
       "        <th>avg_unitprice</th>\n",
       "    </tr>\n",
       "    <tr>\n",
       "        <td>Rock</td>\n",
       "        <td>Protected MPEG-4 video file</td>\n",
       "        <td>1.9900000000000024</td>\n",
       "    </tr>\n",
       "    <tr>\n",
       "        <td>Jazz</td>\n",
       "        <td>Protected MPEG-4 video file</td>\n",
       "        <td>1.9900000000000024</td>\n",
       "    </tr>\n",
       "    <tr>\n",
       "        <td>Metal</td>\n",
       "        <td>Protected MPEG-4 video file</td>\n",
       "        <td>1.9900000000000024</td>\n",
       "    </tr>\n",
       "    <tr>\n",
       "        <td>Alternative &amp; Punk</td>\n",
       "        <td>Protected MPEG-4 video file</td>\n",
       "        <td>1.9900000000000024</td>\n",
       "    </tr>\n",
       "    <tr>\n",
       "        <td>Rock And Roll</td>\n",
       "        <td>Protected MPEG-4 video file</td>\n",
       "        <td>1.9900000000000024</td>\n",
       "    </tr>\n",
       "    <tr>\n",
       "        <td>Blues</td>\n",
       "        <td>Protected MPEG-4 video file</td>\n",
       "        <td>1.9900000000000024</td>\n",
       "    </tr>\n",
       "    <tr>\n",
       "        <td>Latin</td>\n",
       "        <td>Protected MPEG-4 video file</td>\n",
       "        <td>1.9900000000000024</td>\n",
       "    </tr>\n",
       "    <tr>\n",
       "        <td>Reggae</td>\n",
       "        <td>Protected MPEG-4 video file</td>\n",
       "        <td>1.9900000000000024</td>\n",
       "    </tr>\n",
       "    <tr>\n",
       "        <td>Pop</td>\n",
       "        <td>Protected MPEG-4 video file</td>\n",
       "        <td>1.9900000000000024</td>\n",
       "    </tr>\n",
       "    <tr>\n",
       "        <td>Soundtrack</td>\n",
       "        <td>Protected MPEG-4 video file</td>\n",
       "        <td>1.9900000000000024</td>\n",
       "    </tr>\n",
       "    <tr>\n",
       "        <td>Bossa Nova</td>\n",
       "        <td>Protected MPEG-4 video file</td>\n",
       "        <td>1.9900000000000024</td>\n",
       "    </tr>\n",
       "    <tr>\n",
       "        <td>Easy Listening</td>\n",
       "        <td>Protected MPEG-4 video file</td>\n",
       "        <td>1.9900000000000024</td>\n",
       "    </tr>\n",
       "    <tr>\n",
       "        <td>Heavy Metal</td>\n",
       "        <td>Protected MPEG-4 video file</td>\n",
       "        <td>1.9900000000000024</td>\n",
       "    </tr>\n",
       "    <tr>\n",
       "        <td>R&amp;B/Soul</td>\n",
       "        <td>Protected MPEG-4 video file</td>\n",
       "        <td>1.9900000000000024</td>\n",
       "    </tr>\n",
       "    <tr>\n",
       "        <td>Electronica/Dance</td>\n",
       "        <td>Protected MPEG-4 video file</td>\n",
       "        <td>1.9900000000000024</td>\n",
       "    </tr>\n",
       "    <tr>\n",
       "        <td>World</td>\n",
       "        <td>Protected MPEG-4 video file</td>\n",
       "        <td>1.9900000000000024</td>\n",
       "    </tr>\n",
       "    <tr>\n",
       "        <td>Hip Hop/Rap</td>\n",
       "        <td>Protected MPEG-4 video file</td>\n",
       "        <td>1.9900000000000024</td>\n",
       "    </tr>\n",
       "    <tr>\n",
       "        <td>Science Fiction</td>\n",
       "        <td>Protected MPEG-4 video file</td>\n",
       "        <td>1.9900000000000024</td>\n",
       "    </tr>\n",
       "    <tr>\n",
       "        <td>TV Shows</td>\n",
       "        <td>Protected MPEG-4 video file</td>\n",
       "        <td>1.9900000000000024</td>\n",
       "    </tr>\n",
       "    <tr>\n",
       "        <td>Sci Fi &amp; Fantasy</td>\n",
       "        <td>Protected MPEG-4 video file</td>\n",
       "        <td>1.9900000000000024</td>\n",
       "    </tr>\n",
       "    <tr>\n",
       "        <td>Drama</td>\n",
       "        <td>Protected MPEG-4 video file</td>\n",
       "        <td>1.9900000000000024</td>\n",
       "    </tr>\n",
       "    <tr>\n",
       "        <td>Comedy</td>\n",
       "        <td>Protected MPEG-4 video file</td>\n",
       "        <td>1.9900000000000024</td>\n",
       "    </tr>\n",
       "    <tr>\n",
       "        <td>Alternative</td>\n",
       "        <td>Protected MPEG-4 video file</td>\n",
       "        <td>1.9900000000000024</td>\n",
       "    </tr>\n",
       "    <tr>\n",
       "        <td>Classical</td>\n",
       "        <td>Protected MPEG-4 video file</td>\n",
       "        <td>1.9900000000000024</td>\n",
       "    </tr>\n",
       "    <tr>\n",
       "        <td>Opera</td>\n",
       "        <td>Protected MPEG-4 video file</td>\n",
       "        <td>1.9900000000000024</td>\n",
       "    </tr>\n",
       "</table>"
      ],
      "text/plain": [
       "[('Rock', 'Protected MPEG-4 video file', 1.9900000000000024),\n",
       " ('Jazz', 'Protected MPEG-4 video file', 1.9900000000000024),\n",
       " ('Metal', 'Protected MPEG-4 video file', 1.9900000000000024),\n",
       " ('Alternative & Punk', 'Protected MPEG-4 video file', 1.9900000000000024),\n",
       " ('Rock And Roll', 'Protected MPEG-4 video file', 1.9900000000000024),\n",
       " ('Blues', 'Protected MPEG-4 video file', 1.9900000000000024),\n",
       " ('Latin', 'Protected MPEG-4 video file', 1.9900000000000024),\n",
       " ('Reggae', 'Protected MPEG-4 video file', 1.9900000000000024),\n",
       " ('Pop', 'Protected MPEG-4 video file', 1.9900000000000024),\n",
       " ('Soundtrack', 'Protected MPEG-4 video file', 1.9900000000000024),\n",
       " ('Bossa Nova', 'Protected MPEG-4 video file', 1.9900000000000024),\n",
       " ('Easy Listening', 'Protected MPEG-4 video file', 1.9900000000000024),\n",
       " ('Heavy Metal', 'Protected MPEG-4 video file', 1.9900000000000024),\n",
       " ('R&B/Soul', 'Protected MPEG-4 video file', 1.9900000000000024),\n",
       " ('Electronica/Dance', 'Protected MPEG-4 video file', 1.9900000000000024),\n",
       " ('World', 'Protected MPEG-4 video file', 1.9900000000000024),\n",
       " ('Hip Hop/Rap', 'Protected MPEG-4 video file', 1.9900000000000024),\n",
       " ('Science Fiction', 'Protected MPEG-4 video file', 1.9900000000000024),\n",
       " ('TV Shows', 'Protected MPEG-4 video file', 1.9900000000000024),\n",
       " ('Sci Fi & Fantasy', 'Protected MPEG-4 video file', 1.9900000000000024),\n",
       " ('Drama', 'Protected MPEG-4 video file', 1.9900000000000024),\n",
       " ('Comedy', 'Protected MPEG-4 video file', 1.9900000000000024),\n",
       " ('Alternative', 'Protected MPEG-4 video file', 1.9900000000000024),\n",
       " ('Classical', 'Protected MPEG-4 video file', 1.9900000000000024),\n",
       " ('Opera', 'Protected MPEG-4 video file', 1.9900000000000024)]"
      ]
     },
     "execution_count": 12,
     "metadata": {},
     "output_type": "execute_result"
    }
   ],
   "source": [
    "%%sql\n",
    "WITH A \n",
    "AS \n",
    "(\n",
    "select g.genreid, g.name, m.mediatypeid, m.name as m_name, i.unitprice\n",
    "from tracks t \n",
    "inner join media_types m\n",
    "  on t.mediatypeid = m.mediatypeid\n",
    "inner join genres g \n",
    "  on t.genreid = t.genreid\n",
    "inner join invoice_items i\n",
    "  on i.trackid = t.trackid\n",
    "    \n",
    ")\n",
    "\n",
    "select name, m_name, avg(unitprice) as avg_unitprice\n",
    "from A\n",
    "where not exists\n",
    "(\n",
    "select * \n",
    "from A Inn\n",
    "where A.genreid = Inn.genreid\n",
    "and A.mediatypeid = Inn.mediatypeid \n",
    "and unitprice <= 1.5)\n",
    "group by genreid, mediatypeid, name, m_name\n"
   ]
  },
  {
   "cell_type": "markdown",
   "metadata": {},
   "source": [
    "## Задание 4\n",
    "Вывести компании, сделавшие максимальное и минимальное число заказов."
   ]
  },
  {
   "cell_type": "code",
   "execution_count": 17,
   "metadata": {
    "collapsed": false
   },
   "outputs": [
    {
     "name": "stdout",
     "output_type": "stream",
     "text": [
      "Done.\n"
     ]
    },
    {
     "data": {
      "text/html": [
       "<table>\n",
       "    <tr>\n",
       "        <th>company</th>\n",
       "        <th>cnt</th>\n",
       "    </tr>\n",
       "    <tr>\n",
       "        <td>Apple Inc.</td>\n",
       "        <td>7</td>\n",
       "    </tr>\n",
       "    <tr>\n",
       "        <td>Banco do Brasil S.A.</td>\n",
       "        <td>7</td>\n",
       "    </tr>\n",
       "    <tr>\n",
       "        <td>Embraer - Empresa Brasileira de Aeronáutica S.A.</td>\n",
       "        <td>7</td>\n",
       "    </tr>\n",
       "    <tr>\n",
       "        <td>Google Inc.</td>\n",
       "        <td>7</td>\n",
       "    </tr>\n",
       "    <tr>\n",
       "        <td>JetBrains s.r.o.</td>\n",
       "        <td>7</td>\n",
       "    </tr>\n",
       "    <tr>\n",
       "        <td>Microsoft Corporation</td>\n",
       "        <td>7</td>\n",
       "    </tr>\n",
       "    <tr>\n",
       "        <td>Riotur</td>\n",
       "        <td>7</td>\n",
       "    </tr>\n",
       "    <tr>\n",
       "        <td>Rogers Canada</td>\n",
       "        <td>7</td>\n",
       "    </tr>\n",
       "    <tr>\n",
       "        <td>Telus</td>\n",
       "        <td>7</td>\n",
       "    </tr>\n",
       "    <tr>\n",
       "        <td>Woodstock Discos</td>\n",
       "        <td>7</td>\n",
       "    </tr>\n",
       "</table>"
      ],
      "text/plain": [
       "[('Apple Inc.', 7),\n",
       " ('Banco do Brasil S.A.', 7),\n",
       " ('Embraer - Empresa Brasileira de Aeronáutica S.A.', 7),\n",
       " ('Google Inc.', 7),\n",
       " ('JetBrains s.r.o.', 7),\n",
       " ('Microsoft Corporation', 7),\n",
       " ('Riotur', 7),\n",
       " ('Rogers Canada', 7),\n",
       " ('Telus', 7),\n",
       " ('Woodstock Discos', 7)]"
      ]
     },
     "execution_count": 17,
     "metadata": {},
     "output_type": "execute_result"
    }
   ],
   "source": [
    "%%sql\n",
    "WITH A \n",
    "AS \n",
    "(\n",
    "select c.company, count(i.invoiceid) as cnt\n",
    "from customers c \n",
    "  inner join invoices i\n",
    "    on i.customerid = c.customerid\n",
    "where company is not null\n",
    "group by company\n",
    ")\n",
    "SELECT * \n",
    "FROM A\n",
    "where cnt in (select min(cnt) from A union select max(cnt) from A )"
   ]
  },
  {
   "cell_type": "markdown",
   "metadata": {},
   "source": [
    "## Задание 5\n",
    "Для каждой компании вывести общее количестов песен, купленных по жанру поп-музыки"
   ]
  },
  {
   "cell_type": "code",
   "execution_count": 21,
   "metadata": {
    "collapsed": false
   },
   "outputs": [
    {
     "name": "stdout",
     "output_type": "stream",
     "text": [
      "Done.\n"
     ]
    },
    {
     "data": {
      "text/html": [
       "<table>\n",
       "    <tr>\n",
       "        <th>Company</th>\n",
       "        <th>cnt</th>\n",
       "    </tr>\n",
       "    <tr>\n",
       "        <td>Embraer - Empresa Brasileira de Aeronáutica S.A.</td>\n",
       "        <td>2</td>\n",
       "    </tr>\n",
       "    <tr>\n",
       "        <td>JetBrains s.r.o.</td>\n",
       "        <td>4</td>\n",
       "    </tr>\n",
       "</table>"
      ],
      "text/plain": [
       "[('Embraer - Empresa Brasileira de Aeronáutica S.A.', 2),\n",
       " ('JetBrains s.r.o.', 4)]"
      ]
     },
     "execution_count": 21,
     "metadata": {},
     "output_type": "execute_result"
    }
   ],
   "source": [
    "%%sql \n",
    "select c.company, count(*) as cnt\n",
    "from tracks t \n",
    "inner join genres g\n",
    "  on t.genreid = g.genreid\n",
    "inner join invoice_items ii \n",
    "  on t.trackid = ii.trackid\n",
    "inner join invoices i \n",
    "  on i.invoiceid = ii.invoiceid\n",
    "inner join customers c \n",
    "  on c.customerid = i.customerid \n",
    "where g.name = 'Pop'\n",
    "and c.company is not null\n",
    "group by c.company"
   ]
  },
  {
   "cell_type": "markdown",
   "metadata": {},
   "source": [
    "## Задание 6\n",
    "Вывести средний размер альбома в байтах."
   ]
  },
  {
   "cell_type": "code",
   "execution_count": 29,
   "metadata": {
    "collapsed": false
   },
   "outputs": [
    {
     "name": "stdout",
     "output_type": "stream",
     "text": [
      "Done.\n"
     ]
    },
    {
     "data": {
      "text/html": [
       "<table>\n",
       "    <tr>\n",
       "        <th>avg_sb</th>\n",
       "    </tr>\n",
       "    <tr>\n",
       "        <td>338288920.3170029</td>\n",
       "    </tr>\n",
       "</table>"
      ],
      "text/plain": [
       "[(338288920.3170029,)]"
      ]
     },
     "execution_count": 29,
     "metadata": {},
     "output_type": "execute_result"
    }
   ],
   "source": [
    "%%sql\n",
    "\n",
    "Select avg(sb) as avg_sb\n",
    "from \n",
    "(\n",
    "select al.title, sum(bytes) as sb \n",
    "from albums al\n",
    "inner join tracks t \n",
    "  on al.albumid = t.albumid\n",
    "group by al.title\n",
    ")"
   ]
  },
  {
   "cell_type": "code",
   "execution_count": null,
   "metadata": {
    "collapsed": true
   },
   "outputs": [],
   "source": []
  }
 ],
 "metadata": {
  "kernelspec": {
   "display_name": "Python 3",
   "language": "python",
   "name": "python3"
  },
  "language_info": {
   "codemirror_mode": {
    "name": "ipython",
    "version": 3
   },
   "file_extension": ".py",
   "mimetype": "text/x-python",
   "name": "python",
   "nbconvert_exporter": "python",
   "pygments_lexer": "ipython3",
   "version": "3.6.0"
  }
 },
 "nbformat": 4,
 "nbformat_minor": 2
}
